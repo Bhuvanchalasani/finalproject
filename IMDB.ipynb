{
  "cells": [
    {
      "cell_type": "markdown",
      "id": "7da5dfed",
      "metadata": {
        "id": "7da5dfed"
      },
      "source": [
        "IMDB MOVIE REVIEW"
      ]
    },
    {
      "cell_type": "markdown",
      "id": "e42f4b2c",
      "metadata": {
        "id": "e42f4b2c"
      },
      "source": [
        "**Task:** *Goal of this project is to predict the number of positive and negative reviews using classification*"
      ]
    },
    {
      "cell_type": "code",
      "execution_count": null,
      "id": "a627d3fc",
      "metadata": {
        "id": "a627d3fc"
      },
      "outputs": [],
      "source": [
        "import pandas as pd\n",
        "import numpy as np\n",
        "import seaborn as sb\n",
        "import matplotlib.pyplot as plt\n",
        "\n",
        "from warnings import filterwarnings\n",
        "filterwarnings(action='ignore')"
      ]
    },
    {
      "cell_type": "code",
      "execution_count": null,
      "id": "28b627db",
      "metadata": {
        "colab": {
          "base_uri": "https://localhost:8080/",
          "height": 206
        },
        "id": "28b627db",
        "outputId": "b141141b-2f6b-4a26-e05f-9302a552210c"
      },
      "outputs": [
        {
          "output_type": "execute_result",
          "data": {
            "text/plain": [
              "                                              review sentiment\n",
              "0  I thought this was a wonderful way to spend ti...  positive\n",
              "1  Probably my all-time favorite movie, a story o...  positive\n",
              "2  I sure would like to see a resurrection of a u...  positive\n",
              "3  This show was an amazing, fresh & innovative i...  negative\n",
              "4  Encouraged by the positive comments about this...  negative"
            ],
            "text/html": [
              "\n",
              "\n",
              "  <div id=\"df-e2d1668e-875d-44ae-85f0-390f2c2c570a\">\n",
              "    <div class=\"colab-df-container\">\n",
              "      <div>\n",
              "<style scoped>\n",
              "    .dataframe tbody tr th:only-of-type {\n",
              "        vertical-align: middle;\n",
              "    }\n",
              "\n",
              "    .dataframe tbody tr th {\n",
              "        vertical-align: top;\n",
              "    }\n",
              "\n",
              "    .dataframe thead th {\n",
              "        text-align: right;\n",
              "    }\n",
              "</style>\n",
              "<table border=\"1\" class=\"dataframe\">\n",
              "  <thead>\n",
              "    <tr style=\"text-align: right;\">\n",
              "      <th></th>\n",
              "      <th>review</th>\n",
              "      <th>sentiment</th>\n",
              "    </tr>\n",
              "  </thead>\n",
              "  <tbody>\n",
              "    <tr>\n",
              "      <th>0</th>\n",
              "      <td>I thought this was a wonderful way to spend ti...</td>\n",
              "      <td>positive</td>\n",
              "    </tr>\n",
              "    <tr>\n",
              "      <th>1</th>\n",
              "      <td>Probably my all-time favorite movie, a story o...</td>\n",
              "      <td>positive</td>\n",
              "    </tr>\n",
              "    <tr>\n",
              "      <th>2</th>\n",
              "      <td>I sure would like to see a resurrection of a u...</td>\n",
              "      <td>positive</td>\n",
              "    </tr>\n",
              "    <tr>\n",
              "      <th>3</th>\n",
              "      <td>This show was an amazing, fresh &amp; innovative i...</td>\n",
              "      <td>negative</td>\n",
              "    </tr>\n",
              "    <tr>\n",
              "      <th>4</th>\n",
              "      <td>Encouraged by the positive comments about this...</td>\n",
              "      <td>negative</td>\n",
              "    </tr>\n",
              "  </tbody>\n",
              "</table>\n",
              "</div>\n",
              "      <button class=\"colab-df-convert\" onclick=\"convertToInteractive('df-e2d1668e-875d-44ae-85f0-390f2c2c570a')\"\n",
              "              title=\"Convert this dataframe to an interactive table.\"\n",
              "              style=\"display:none;\">\n",
              "\n",
              "  <svg xmlns=\"http://www.w3.org/2000/svg\" height=\"24px\"viewBox=\"0 0 24 24\"\n",
              "       width=\"24px\">\n",
              "    <path d=\"M0 0h24v24H0V0z\" fill=\"none\"/>\n",
              "    <path d=\"M18.56 5.44l.94 2.06.94-2.06 2.06-.94-2.06-.94-.94-2.06-.94 2.06-2.06.94zm-11 1L8.5 8.5l.94-2.06 2.06-.94-2.06-.94L8.5 2.5l-.94 2.06-2.06.94zm10 10l.94 2.06.94-2.06 2.06-.94-2.06-.94-.94-2.06-.94 2.06-2.06.94z\"/><path d=\"M17.41 7.96l-1.37-1.37c-.4-.4-.92-.59-1.43-.59-.52 0-1.04.2-1.43.59L10.3 9.45l-7.72 7.72c-.78.78-.78 2.05 0 2.83L4 21.41c.39.39.9.59 1.41.59.51 0 1.02-.2 1.41-.59l7.78-7.78 2.81-2.81c.8-.78.8-2.07 0-2.86zM5.41 20L4 18.59l7.72-7.72 1.47 1.35L5.41 20z\"/>\n",
              "  </svg>\n",
              "      </button>\n",
              "\n",
              "\n",
              "\n",
              "    <div id=\"df-8d455bc8-962a-4b49-a524-d13e08626b80\">\n",
              "      <button class=\"colab-df-quickchart\" onclick=\"quickchart('df-8d455bc8-962a-4b49-a524-d13e08626b80')\"\n",
              "              title=\"Suggest charts.\"\n",
              "              style=\"display:none;\">\n",
              "\n",
              "<svg xmlns=\"http://www.w3.org/2000/svg\" height=\"24px\"viewBox=\"0 0 24 24\"\n",
              "     width=\"24px\">\n",
              "    <g>\n",
              "        <path d=\"M19 3H5c-1.1 0-2 .9-2 2v14c0 1.1.9 2 2 2h14c1.1 0 2-.9 2-2V5c0-1.1-.9-2-2-2zM9 17H7v-7h2v7zm4 0h-2V7h2v10zm4 0h-2v-4h2v4z\"/>\n",
              "    </g>\n",
              "</svg>\n",
              "      </button>\n",
              "    </div>\n",
              "\n",
              "<style>\n",
              "  .colab-df-quickchart {\n",
              "    background-color: #E8F0FE;\n",
              "    border: none;\n",
              "    border-radius: 50%;\n",
              "    cursor: pointer;\n",
              "    display: none;\n",
              "    fill: #1967D2;\n",
              "    height: 32px;\n",
              "    padding: 0 0 0 0;\n",
              "    width: 32px;\n",
              "  }\n",
              "\n",
              "  .colab-df-quickchart:hover {\n",
              "    background-color: #E2EBFA;\n",
              "    box-shadow: 0px 1px 2px rgba(60, 64, 67, 0.3), 0px 1px 3px 1px rgba(60, 64, 67, 0.15);\n",
              "    fill: #174EA6;\n",
              "  }\n",
              "\n",
              "  [theme=dark] .colab-df-quickchart {\n",
              "    background-color: #3B4455;\n",
              "    fill: #D2E3FC;\n",
              "  }\n",
              "\n",
              "  [theme=dark] .colab-df-quickchart:hover {\n",
              "    background-color: #434B5C;\n",
              "    box-shadow: 0px 1px 3px 1px rgba(0, 0, 0, 0.15);\n",
              "    filter: drop-shadow(0px 1px 2px rgba(0, 0, 0, 0.3));\n",
              "    fill: #FFFFFF;\n",
              "  }\n",
              "</style>\n",
              "\n",
              "    <script>\n",
              "      async function quickchart(key) {\n",
              "        const containerElement = document.querySelector('#' + key);\n",
              "        const charts = await google.colab.kernel.invokeFunction(\n",
              "            'suggestCharts', [key], {});\n",
              "      }\n",
              "    </script>\n",
              "\n",
              "      <script>\n",
              "\n",
              "function displayQuickchartButton(domScope) {\n",
              "  let quickchartButtonEl =\n",
              "    domScope.querySelector('#df-8d455bc8-962a-4b49-a524-d13e08626b80 button.colab-df-quickchart');\n",
              "  quickchartButtonEl.style.display =\n",
              "    google.colab.kernel.accessAllowed ? 'block' : 'none';\n",
              "}\n",
              "\n",
              "        displayQuickchartButton(document);\n",
              "      </script>\n",
              "      <style>\n",
              "    .colab-df-container {\n",
              "      display:flex;\n",
              "      flex-wrap:wrap;\n",
              "      gap: 12px;\n",
              "    }\n",
              "\n",
              "    .colab-df-convert {\n",
              "      background-color: #E8F0FE;\n",
              "      border: none;\n",
              "      border-radius: 50%;\n",
              "      cursor: pointer;\n",
              "      display: none;\n",
              "      fill: #1967D2;\n",
              "      height: 32px;\n",
              "      padding: 0 0 0 0;\n",
              "      width: 32px;\n",
              "    }\n",
              "\n",
              "    .colab-df-convert:hover {\n",
              "      background-color: #E2EBFA;\n",
              "      box-shadow: 0px 1px 2px rgba(60, 64, 67, 0.3), 0px 1px 3px 1px rgba(60, 64, 67, 0.15);\n",
              "      fill: #174EA6;\n",
              "    }\n",
              "\n",
              "    [theme=dark] .colab-df-convert {\n",
              "      background-color: #3B4455;\n",
              "      fill: #D2E3FC;\n",
              "    }\n",
              "\n",
              "    [theme=dark] .colab-df-convert:hover {\n",
              "      background-color: #434B5C;\n",
              "      box-shadow: 0px 1px 3px 1px rgba(0, 0, 0, 0.15);\n",
              "      filter: drop-shadow(0px 1px 2px rgba(0, 0, 0, 0.3));\n",
              "      fill: #FFFFFF;\n",
              "    }\n",
              "  </style>\n",
              "\n",
              "      <script>\n",
              "        const buttonEl =\n",
              "          document.querySelector('#df-e2d1668e-875d-44ae-85f0-390f2c2c570a button.colab-df-convert');\n",
              "        buttonEl.style.display =\n",
              "          google.colab.kernel.accessAllowed ? 'block' : 'none';\n",
              "\n",
              "        async function convertToInteractive(key) {\n",
              "          const element = document.querySelector('#df-e2d1668e-875d-44ae-85f0-390f2c2c570a');\n",
              "          const dataTable =\n",
              "            await google.colab.kernel.invokeFunction('convertToInteractive',\n",
              "                                                     [key], {});\n",
              "          if (!dataTable) return;\n",
              "\n",
              "          const docLinkHtml = 'Like what you see? Visit the ' +\n",
              "            '<a target=\"_blank\" href=https://colab.research.google.com/notebooks/data_table.ipynb>data table notebook</a>'\n",
              "            + ' to learn more about interactive tables.';\n",
              "          element.innerHTML = '';\n",
              "          dataTable['output_type'] = 'display_data';\n",
              "          await google.colab.output.renderOutput(dataTable, element);\n",
              "          const docLink = document.createElement('div');\n",
              "          docLink.innerHTML = docLinkHtml;\n",
              "          element.appendChild(docLink);\n",
              "        }\n",
              "      </script>\n",
              "    </div>\n",
              "  </div>\n"
            ]
          },
          "metadata": {},
          "execution_count": 5
        }
      ],
      "source": [
        "df= pd.read_excel(\"IMDB_dataset.xlsx\")\n",
        "\n",
        "df.head()"
      ]
    },
    {
      "cell_type": "code",
      "execution_count": null,
      "id": "c0c518d9",
      "metadata": {
        "colab": {
          "base_uri": "https://localhost:8080/"
        },
        "id": "c0c518d9",
        "outputId": "065ebc83-aefb-43e6-daad-d544353f7426"
      },
      "outputs": [
        {
          "output_type": "stream",
          "name": "stdout",
          "text": [
            "<class 'pandas.core.frame.DataFrame'>\n",
            "RangeIndex: 25000 entries, 0 to 24999\n",
            "Data columns (total 2 columns):\n",
            " #   Column     Non-Null Count  Dtype \n",
            "---  ------     --------------  ----- \n",
            " 0   review     25000 non-null  object\n",
            " 1   sentiment  25000 non-null  object\n",
            "dtypes: object(2)\n",
            "memory usage: 390.8+ KB\n"
          ]
        }
      ],
      "source": [
        "df.info()"
      ]
    },
    {
      "cell_type": "code",
      "execution_count": null,
      "id": "fcdc799d",
      "metadata": {
        "colab": {
          "base_uri": "https://localhost:8080/"
        },
        "id": "fcdc799d",
        "outputId": "7acfbb15-e69d-4e18-e1aa-6fd936316523"
      },
      "outputs": [
        {
          "output_type": "stream",
          "name": "stdout",
          "text": [
            "Requirement already satisfied: nltk in /usr/local/lib/python3.10/dist-packages (3.8.1)\n",
            "Requirement already satisfied: click in /usr/local/lib/python3.10/dist-packages (from nltk) (8.1.6)\n",
            "Requirement already satisfied: joblib in /usr/local/lib/python3.10/dist-packages (from nltk) (1.3.1)\n",
            "Requirement already satisfied: regex>=2021.8.3 in /usr/local/lib/python3.10/dist-packages (from nltk) (2022.10.31)\n",
            "Requirement already satisfied: tqdm in /usr/local/lib/python3.10/dist-packages (from nltk) (4.65.0)\n"
          ]
        }
      ],
      "source": [
        "! pip install nltk"
      ]
    },
    {
      "cell_type": "markdown",
      "id": "d26ba127",
      "metadata": {
        "id": "d26ba127"
      },
      "source": [
        "### Removing punctuation"
      ]
    },
    {
      "cell_type": "code",
      "execution_count": null,
      "id": "d0d0ebe8",
      "metadata": {
        "id": "d0d0ebe8",
        "outputId": "e278d241-e3a5-4fe7-aecf-845f3e521c58"
      },
      "outputs": [
        {
          "data": {
            "text/html": [
              "<div>\n",
              "<style scoped>\n",
              "    .dataframe tbody tr th:only-of-type {\n",
              "        vertical-align: middle;\n",
              "    }\n",
              "\n",
              "    .dataframe tbody tr th {\n",
              "        vertical-align: top;\n",
              "    }\n",
              "\n",
              "    .dataframe thead th {\n",
              "        text-align: right;\n",
              "    }\n",
              "</style>\n",
              "<table border=\"1\" class=\"dataframe\">\n",
              "  <thead>\n",
              "    <tr style=\"text-align: right;\">\n",
              "      <th></th>\n",
              "      <th>review</th>\n",
              "      <th>sentiment</th>\n",
              "    </tr>\n",
              "  </thead>\n",
              "  <tbody>\n",
              "    <tr>\n",
              "      <th>0</th>\n",
              "      <td>i thought this was a wonderful way to spend ti...</td>\n",
              "      <td>positive</td>\n",
              "    </tr>\n",
              "    <tr>\n",
              "      <th>1</th>\n",
              "      <td>probably my alltime favorite movie a story of ...</td>\n",
              "      <td>positive</td>\n",
              "    </tr>\n",
              "    <tr>\n",
              "      <th>2</th>\n",
              "      <td>i sure would like to see a resurrection of a u...</td>\n",
              "      <td>positive</td>\n",
              "    </tr>\n",
              "    <tr>\n",
              "      <th>3</th>\n",
              "      <td>this show was an amazing fresh  innovative ide...</td>\n",
              "      <td>negative</td>\n",
              "    </tr>\n",
              "    <tr>\n",
              "      <th>4</th>\n",
              "      <td>encouraged by the positive comments about this...</td>\n",
              "      <td>negative</td>\n",
              "    </tr>\n",
              "  </tbody>\n",
              "</table>\n",
              "</div>"
            ],
            "text/plain": [
              "                                              review sentiment\n",
              "0  i thought this was a wonderful way to spend ti...  positive\n",
              "1  probably my alltime favorite movie a story of ...  positive\n",
              "2  i sure would like to see a resurrection of a u...  positive\n",
              "3  this show was an amazing fresh  innovative ide...  negative\n",
              "4  encouraged by the positive comments about this...  negative"
            ]
          },
          "execution_count": 5,
          "metadata": {},
          "output_type": "execute_result"
        }
      ],
      "source": [
        "from nltk.tokenize import RegexpTokenizer\n",
        "import re\n",
        "import string\n",
        "import math\n",
        "\n",
        "df[\"review\"] = df[\"review\"].str.lower()\n",
        "\n",
        "\n",
        "PUNCT_TO_REMOVE = string.punctuation\n",
        "def punctuation_removal(text):\n",
        "    \"\"\"custom function to remove the punctuation\"\"\"\n",
        "    return text.translate(str.maketrans('', '', PUNCT_TO_REMOVE))\n",
        "\n",
        "df[\"review\"] = df[\"review\"].apply(lambda text: punctuation_removal(text))\n",
        "imdb.head()"
      ]
    },
    {
      "cell_type": "markdown",
      "id": "9e956b6c",
      "metadata": {
        "id": "9e956b6c"
      },
      "source": [
        "### Performing Tokenization"
      ]
    },
    {
      "cell_type": "code",
      "execution_count": null,
      "id": "8d68423d",
      "metadata": {
        "id": "8d68423d",
        "outputId": "1989f713-1b5a-4a22-899e-cd698a2cb535"
      },
      "outputs": [
        {
          "data": {
            "text/html": [
              "<div>\n",
              "<style scoped>\n",
              "    .dataframe tbody tr th:only-of-type {\n",
              "        vertical-align: middle;\n",
              "    }\n",
              "\n",
              "    .dataframe tbody tr th {\n",
              "        vertical-align: top;\n",
              "    }\n",
              "\n",
              "    .dataframe thead th {\n",
              "        text-align: right;\n",
              "    }\n",
              "</style>\n",
              "<table border=\"1\" class=\"dataframe\">\n",
              "  <thead>\n",
              "    <tr style=\"text-align: right;\">\n",
              "      <th></th>\n",
              "      <th>review</th>\n",
              "      <th>sentiment</th>\n",
              "    </tr>\n",
              "  </thead>\n",
              "  <tbody>\n",
              "    <tr>\n",
              "      <th>0</th>\n",
              "      <td>[i, thought, this, was, a, wonderful, way, to,...</td>\n",
              "      <td>positive</td>\n",
              "    </tr>\n",
              "    <tr>\n",
              "      <th>1</th>\n",
              "      <td>[probably, my, alltime, favorite, movie, a, st...</td>\n",
              "      <td>positive</td>\n",
              "    </tr>\n",
              "    <tr>\n",
              "      <th>2</th>\n",
              "      <td>[i, sure, would, like, to, see, a, resurrectio...</td>\n",
              "      <td>positive</td>\n",
              "    </tr>\n",
              "    <tr>\n",
              "      <th>3</th>\n",
              "      <td>[this, show, was, an, amazing, fresh, innovati...</td>\n",
              "      <td>negative</td>\n",
              "    </tr>\n",
              "    <tr>\n",
              "      <th>4</th>\n",
              "      <td>[encouraged, by, the, positive, comments, abou...</td>\n",
              "      <td>negative</td>\n",
              "    </tr>\n",
              "  </tbody>\n",
              "</table>\n",
              "</div>"
            ],
            "text/plain": [
              "                                              review sentiment\n",
              "0  [i, thought, this, was, a, wonderful, way, to,...  positive\n",
              "1  [probably, my, alltime, favorite, movie, a, st...  positive\n",
              "2  [i, sure, would, like, to, see, a, resurrectio...  positive\n",
              "3  [this, show, was, an, amazing, fresh, innovati...  negative\n",
              "4  [encouraged, by, the, positive, comments, abou...  negative"
            ]
          },
          "execution_count": 6,
          "metadata": {},
          "output_type": "execute_result"
        }
      ],
      "source": [
        "from nltk.tokenize import RegexpTokenizer\n",
        "\n",
        "def tokenizer_fun(txt):\n",
        "    regexp_tokenizer = RegexpTokenizer('\\s+', gaps = True)\n",
        "    return regexp_tokenizer.tokenize(txt)\n",
        "\n",
        "imdb['review'] = imdb['review'].apply(lambda x: tokenizer_fun(x))\n",
        "imdb.head()"
      ]
    },
    {
      "cell_type": "markdown",
      "id": "76c41050",
      "metadata": {
        "id": "76c41050"
      },
      "source": [
        "### Removing stopwords"
      ]
    },
    {
      "cell_type": "code",
      "execution_count": null,
      "id": "63968c5e",
      "metadata": {
        "id": "63968c5e"
      },
      "outputs": [],
      "source": [
        "from nltk.corpus import stopwords\n",
        "stop_words = set(stopwords.words('english'))\n",
        "stop_words.add('subject')\n",
        "stop_words.add('http')\n",
        "\n",
        "def stopwords_removal(text):\n",
        "    return \" \".join([word for word in str(text).split() if word not in stop_words])\n",
        "\n",
        "df['review'] = df['review'].apply(lambda x: stopwords_removal(x))"
      ]
    },
    {
      "cell_type": "code",
      "execution_count": null,
      "id": "62c55377",
      "metadata": {
        "id": "62c55377",
        "outputId": "e0dc9ae7-27e8-44d2-eeac-f9c11603855b"
      },
      "outputs": [
        {
          "data": {
            "text/html": [
              "<div>\n",
              "<style scoped>\n",
              "    .dataframe tbody tr th:only-of-type {\n",
              "        vertical-align: middle;\n",
              "    }\n",
              "\n",
              "    .dataframe tbody tr th {\n",
              "        vertical-align: top;\n",
              "    }\n",
              "\n",
              "    .dataframe thead th {\n",
              "        text-align: right;\n",
              "    }\n",
              "</style>\n",
              "<table border=\"1\" class=\"dataframe\">\n",
              "  <thead>\n",
              "    <tr style=\"text-align: right;\">\n",
              "      <th></th>\n",
              "      <th>review</th>\n",
              "      <th>sentiment</th>\n",
              "    </tr>\n",
              "  </thead>\n",
              "  <tbody>\n",
              "    <tr>\n",
              "      <th>0</th>\n",
              "      <td>['i', 'thought', 'this', 'was', 'a', 'wonderfu...</td>\n",
              "      <td>positive</td>\n",
              "    </tr>\n",
              "    <tr>\n",
              "      <th>1</th>\n",
              "      <td>['probably', 'my', 'alltime', 'favorite', 'mov...</td>\n",
              "      <td>positive</td>\n",
              "    </tr>\n",
              "    <tr>\n",
              "      <th>2</th>\n",
              "      <td>['i', 'sure', 'would', 'like', 'to', 'see', 'a...</td>\n",
              "      <td>positive</td>\n",
              "    </tr>\n",
              "    <tr>\n",
              "      <th>3</th>\n",
              "      <td>['this', 'show', 'was', 'an', 'amazing', 'fres...</td>\n",
              "      <td>negative</td>\n",
              "    </tr>\n",
              "    <tr>\n",
              "      <th>4</th>\n",
              "      <td>['encouraged', 'by', 'the', 'positive', 'comme...</td>\n",
              "      <td>negative</td>\n",
              "    </tr>\n",
              "  </tbody>\n",
              "</table>\n",
              "</div>"
            ],
            "text/plain": [
              "                                              review sentiment\n",
              "0  ['i', 'thought', 'this', 'was', 'a', 'wonderfu...  positive\n",
              "1  ['probably', 'my', 'alltime', 'favorite', 'mov...  positive\n",
              "2  ['i', 'sure', 'would', 'like', 'to', 'see', 'a...  positive\n",
              "3  ['this', 'show', 'was', 'an', 'amazing', 'fres...  negative\n",
              "4  ['encouraged', 'by', 'the', 'positive', 'comme...  negative"
            ]
          },
          "execution_count": 8,
          "metadata": {},
          "output_type": "execute_result"
        }
      ],
      "source": [
        "df.head()"
      ]
    },
    {
      "cell_type": "markdown",
      "id": "bca35b5c",
      "metadata": {
        "id": "bca35b5c"
      },
      "source": [
        "### Lemmatize/Stem"
      ]
    },
    {
      "cell_type": "code",
      "execution_count": null,
      "id": "e89b1f6e",
      "metadata": {
        "id": "e89b1f6e",
        "outputId": "bae7370b-11e9-408a-ccad-8f6b5c7e0754"
      },
      "outputs": [
        {
          "data": {
            "text/html": [
              "<div>\n",
              "<style scoped>\n",
              "    .dataframe tbody tr th:only-of-type {\n",
              "        vertical-align: middle;\n",
              "    }\n",
              "\n",
              "    .dataframe tbody tr th {\n",
              "        vertical-align: top;\n",
              "    }\n",
              "\n",
              "    .dataframe thead th {\n",
              "        text-align: right;\n",
              "    }\n",
              "</style>\n",
              "<table border=\"1\" class=\"dataframe\">\n",
              "  <thead>\n",
              "    <tr style=\"text-align: right;\">\n",
              "      <th></th>\n",
              "      <th>review</th>\n",
              "      <th>sentiment</th>\n",
              "    </tr>\n",
              "  </thead>\n",
              "  <tbody>\n",
              "    <tr>\n",
              "      <th>0</th>\n",
              "      <td>['i', 'thought', 'this', 'was', 'a', 'wonderfu...</td>\n",
              "      <td>positive</td>\n",
              "    </tr>\n",
              "    <tr>\n",
              "      <th>1</th>\n",
              "      <td>['probably', 'my', 'alltime', 'favorite', 'mov...</td>\n",
              "      <td>positive</td>\n",
              "    </tr>\n",
              "    <tr>\n",
              "      <th>2</th>\n",
              "      <td>['i', 'sure', 'would', 'like', 'to', 'see', 'a...</td>\n",
              "      <td>positive</td>\n",
              "    </tr>\n",
              "    <tr>\n",
              "      <th>3</th>\n",
              "      <td>['this', 'show', 'was', 'an', 'amazing', 'fres...</td>\n",
              "      <td>negative</td>\n",
              "    </tr>\n",
              "    <tr>\n",
              "      <th>4</th>\n",
              "      <td>['encouraged', 'by', 'the', 'positive', 'comme...</td>\n",
              "      <td>negative</td>\n",
              "    </tr>\n",
              "  </tbody>\n",
              "</table>\n",
              "</div>"
            ],
            "text/plain": [
              "                                              review sentiment\n",
              "0  ['i', 'thought', 'this', 'was', 'a', 'wonderfu...  positive\n",
              "1  ['probably', 'my', 'alltime', 'favorite', 'mov...  positive\n",
              "2  ['i', 'sure', 'would', 'like', 'to', 'see', 'a...  positive\n",
              "3  ['this', 'show', 'was', 'an', 'amazing', 'fres...  negative\n",
              "4  ['encouraged', 'by', 'the', 'positive', 'comme...  negative"
            ]
          },
          "execution_count": 9,
          "metadata": {},
          "output_type": "execute_result"
        }
      ],
      "source": [
        "from nltk.stem.porter import PorterStemmer\n",
        "\n",
        "stemmer = PorterStemmer()\n",
        "def stemming(text):\n",
        "    return \" \".join([stemmer.stem(word) for word in text.split()])\n",
        "\n",
        "df[\"review\"] = df[\"review\"].apply(lambda text: stemming(text))\n",
        "df.head()"
      ]
    },
    {
      "cell_type": "code",
      "execution_count": null,
      "id": "a5acb537",
      "metadata": {
        "id": "a5acb537",
        "outputId": "f2c2a4ef-b7ae-4fa7-f2eb-3cee39f8711b"
      },
      "outputs": [
        {
          "data": {
            "text/html": [
              "<div>\n",
              "<style scoped>\n",
              "    .dataframe tbody tr th:only-of-type {\n",
              "        vertical-align: middle;\n",
              "    }\n",
              "\n",
              "    .dataframe tbody tr th {\n",
              "        vertical-align: top;\n",
              "    }\n",
              "\n",
              "    .dataframe thead th {\n",
              "        text-align: right;\n",
              "    }\n",
              "</style>\n",
              "<table border=\"1\" class=\"dataframe\">\n",
              "  <thead>\n",
              "    <tr style=\"text-align: right;\">\n",
              "      <th></th>\n",
              "      <th>review</th>\n",
              "      <th>sentiment</th>\n",
              "    </tr>\n",
              "  </thead>\n",
              "  <tbody>\n",
              "    <tr>\n",
              "      <th>0</th>\n",
              "      <td>['i', 'thought', 'this', 'was', 'a', 'wonderfu...</td>\n",
              "      <td>1</td>\n",
              "    </tr>\n",
              "    <tr>\n",
              "      <th>1</th>\n",
              "      <td>['probably', 'my', 'alltime', 'favorite', 'mov...</td>\n",
              "      <td>1</td>\n",
              "    </tr>\n",
              "    <tr>\n",
              "      <th>2</th>\n",
              "      <td>['i', 'sure', 'would', 'like', 'to', 'see', 'a...</td>\n",
              "      <td>1</td>\n",
              "    </tr>\n",
              "    <tr>\n",
              "      <th>3</th>\n",
              "      <td>['this', 'show', 'was', 'an', 'amazing', 'fres...</td>\n",
              "      <td>0</td>\n",
              "    </tr>\n",
              "    <tr>\n",
              "      <th>4</th>\n",
              "      <td>['encouraged', 'by', 'the', 'positive', 'comme...</td>\n",
              "      <td>0</td>\n",
              "    </tr>\n",
              "  </tbody>\n",
              "</table>\n",
              "</div>"
            ],
            "text/plain": [
              "                                              review  sentiment\n",
              "0  ['i', 'thought', 'this', 'was', 'a', 'wonderfu...          1\n",
              "1  ['probably', 'my', 'alltime', 'favorite', 'mov...          1\n",
              "2  ['i', 'sure', 'would', 'like', 'to', 'see', 'a...          1\n",
              "3  ['this', 'show', 'was', 'an', 'amazing', 'fres...          0\n",
              "4  ['encouraged', 'by', 'the', 'positive', 'comme...          0"
            ]
          },
          "execution_count": 11,
          "metadata": {},
          "output_type": "execute_result"
        }
      ],
      "source": [
        "mapping = {'negative': 0, 'positive': 1}\n",
        "df['sentiment'] = df['sentiment'].map(mapping)\n",
        "\n",
        "df.head()"
      ]
    },
    {
      "cell_type": "code",
      "execution_count": null,
      "id": "3630d5b0",
      "metadata": {
        "id": "3630d5b0"
      },
      "outputs": [],
      "source": [
        "from sklearn.model_selection import train_test_split\n",
        "\n",
        "positive = df[df['sentiment'] == 1].sample(1000)\n",
        "negative= df[df['sentiment'] == 0].sample(1000)\n",
        "\n",
        "bal_data = pd.concat([positive, negative], ignore_index=True)\n",
        "\n",
        "# Split the data into features (X) and target (y)\n",
        "X = bal_data['review']\n",
        "y = bal_data['sentiment']"
      ]
    },
    {
      "cell_type": "code",
      "execution_count": null,
      "id": "a3581b31",
      "metadata": {
        "id": "a3581b31"
      },
      "outputs": [],
      "source": [
        "feature = bal_data['review']\n",
        "label= bal_data['sentiment']"
      ]
    },
    {
      "cell_type": "code",
      "execution_count": null,
      "id": "3bfdff96",
      "metadata": {
        "id": "3bfdff96"
      },
      "outputs": [],
      "source": [
        "from sklearn.model_selection import cross_val_score\n",
        "\n",
        "X_train, X_test, y_train, y_test = train_test_split(feature, label,\n",
        "    test_size=0.4, shuffle = True, random_state = 12)"
      ]
    },
    {
      "cell_type": "markdown",
      "id": "94ee8ac7",
      "metadata": {
        "id": "94ee8ac7"
      },
      "source": [
        "### Perform TFIDF Vectorization"
      ]
    },
    {
      "cell_type": "code",
      "execution_count": null,
      "id": "2cda53ae",
      "metadata": {
        "id": "2cda53ae"
      },
      "outputs": [],
      "source": [
        "from sklearn.feature_extraction.text import TfidfVectorizer\n",
        "\n",
        "tfidf = TfidfVectorizer(max_features=5000)\n",
        "\n",
        "vactorize_x_train = tfidf.fit_transform(X_train)\n",
        "vactorize_x_test = tfidf.transform(X_test)"
      ]
    },
    {
      "cell_type": "markdown",
      "id": "98a05a04",
      "metadata": {
        "id": "98a05a04"
      },
      "source": [
        "### Random forest"
      ]
    },
    {
      "cell_type": "code",
      "execution_count": null,
      "id": "3e84a770",
      "metadata": {
        "id": "3e84a770"
      },
      "outputs": [],
      "source": [
        "from sklearn.model_selection import GridSearchCV\n",
        "from sklearn.ensemble import RandomForestClassifier\n",
        "\n",
        "def print_result(outputs):\n",
        "    print('Parameter: {}\\n'.format(outputs.best_params_))\n",
        "\n",
        "    mean = outputs.cv_results_['mean_test_score']\n",
        "    std = outputs.cv_results_['std_test_score']\n",
        "    for mean, std, params in zip(mean, std, outputs.cv_results_['params']):\n",
        "        print('{} (+/-{}) for {}'.format(round(mean, 3), round(std * 2, 3), params))\n",
        "\n",
        "rf = RandomForestClassifier()\n",
        "params = {\n",
        "    'n_estimators': [5, 50, 250],\n",
        "    'max_depth': [2, 4, 8, 16, 32, None]\n",
        "}\n",
        "\n",
        "cv = GridSearchCV(rf, params, cv=5)\n",
        "cv.fit(vactorize_x_train, y_train)\n",
        "\n",
        "print_result(cv)"
      ]
    },
    {
      "cell_type": "code",
      "execution_count": null,
      "id": "9e47eafd",
      "metadata": {
        "id": "9e47eafd"
      },
      "outputs": [],
      "source": [
        "best_RF_model=cv.best_estimator_"
      ]
    },
    {
      "cell_type": "markdown",
      "id": "1e265b5d",
      "metadata": {
        "id": "1e265b5d"
      },
      "source": [
        "### XGBoost"
      ]
    },
    {
      "cell_type": "code",
      "execution_count": null,
      "id": "58af75e3",
      "metadata": {
        "id": "58af75e3",
        "outputId": "2a08934f-a79d-420f-f7a0-5ff03a249b73"
      },
      "outputs": [
        {
          "name": "stdout",
          "output_type": "stream",
          "text": [
            "Parameter: {'learning_rate': 0.1, 'n_estimators': 50}\n",
            "\n",
            "0.668 (+/-0.077) for {'learning_rate': 0.01, 'n_estimators': 5}\n",
            "0.688 (+/-0.103) for {'learning_rate': 0.01, 'n_estimators': 50}\n",
            "0.744 (+/-0.113) for {'learning_rate': 0.01, 'n_estimators': 250}\n",
            "0.682 (+/-0.082) for {'learning_rate': 0.1, 'n_estimators': 5}\n",
            "0.771 (+/-0.093) for {'learning_rate': 0.1, 'n_estimators': 50}\n",
            "0.769 (+/-0.09) for {'learning_rate': 0.1, 'n_estimators': 250}\n",
            "0.691 (+/-0.059) for {'learning_rate': 0.15, 'n_estimators': 5}\n",
            "0.758 (+/-0.059) for {'learning_rate': 0.15, 'n_estimators': 50}\n",
            "0.77 (+/-0.083) for {'learning_rate': 0.15, 'n_estimators': 250}\n"
          ]
        }
      ],
      "source": [
        "from sklearn.model_selection import GridSearchCV\n",
        "from xgboost import XGBClassifier\n",
        "\n",
        "def print_result(outputs):\n",
        "    print('Parameter: {}\\n'.format(outputs.best_params_))\n",
        "\n",
        "    mean = outputs.cv_results_['mean_test_score']\n",
        "    std = outputs.cv_results_['std_test_score']\n",
        "    for mean, std, params in zip(mean, std, outputs.cv_results_['params']):\n",
        "        print('{} (+/-{}) for {}'.format(round(mean, 3), round(std * 2, 3), params))\n",
        "\n",
        "xgboost = XGBClassifier()\n",
        "params = {\n",
        "       'n_estimators': [5, 50, 250],\n",
        "        'learning_rate': [0.01, 0.1, 0.15],\n",
        "        }\n",
        "\n",
        "cv = GridSearchCV(xgboost, params, cv=5)\n",
        "cv.fit(vactorize_x_train, y_train)\n",
        "\n",
        "print_result(cv)"
      ]
    },
    {
      "cell_type": "code",
      "execution_count": null,
      "id": "2386c657",
      "metadata": {
        "id": "2386c657"
      },
      "outputs": [],
      "source": [
        "best_XGBoost_model=cv.best_estimator_"
      ]
    },
    {
      "cell_type": "markdown",
      "id": "1b371359",
      "metadata": {
        "id": "1b371359"
      },
      "source": [
        "### Final evaluation of models"
      ]
    },
    {
      "cell_type": "code",
      "execution_count": null,
      "id": "888a02af",
      "metadata": {
        "id": "888a02af"
      },
      "outputs": [],
      "source": [
        "from sklearn.metrics import accuracy_score, precision_score, recall_score\n",
        "\n",
        "def model_evoluting(name, model, features, labels):\n",
        "    predict = model.predict(features)\n",
        "    accuracy = round(accuracy_score(labels, predict), 3)\n",
        "    precision = round(precision_score(labels, predict, average='weighted'), 3)\n",
        "    recall = round(recall_score(labels, predict, average='weighted'), 3)\n",
        "    print('{} -- Accuracy: {} / Precision: {} / Recall: {}'.format(name, accuracy, precision, recall))"
      ]
    },
    {
      "cell_type": "code",
      "execution_count": null,
      "id": "71162dc8",
      "metadata": {
        "id": "71162dc8",
        "outputId": "3601565d-a173-44a9-dedf-1e6d6c890820"
      },
      "outputs": [
        {
          "name": "stdout",
          "output_type": "stream",
          "text": [
            "Random Forest -- Accuracy: 0.788 / Precision: 0.788 / Recall: 0.788\n"
          ]
        }
      ],
      "source": [
        "model_evoluting(\"Random Forest\", best_RF_model, vactorize_x_test, y_test)"
      ]
    },
    {
      "cell_type": "code",
      "execution_count": null,
      "id": "fd7ce4ef",
      "metadata": {
        "id": "fd7ce4ef",
        "outputId": "b37687e8-2486-44b1-d2a8-12dbf001a745"
      },
      "outputs": [
        {
          "name": "stdout",
          "output_type": "stream",
          "text": [
            "XGBoost -- Accuracy: 0.766 / Precision: 0.767 / Recall: 0.766\n"
          ]
        }
      ],
      "source": [
        "model_evoluting(\"XGBoost\", best_XGBoost_model, vactorize_x_test, y_test)"
      ]
    },
    {
      "cell_type": "code",
      "source": [],
      "metadata": {
        "id": "dMC2hA-FZFHC"
      },
      "id": "dMC2hA-FZFHC",
      "execution_count": null,
      "outputs": []
    },
    {
      "cell_type": "markdown",
      "id": "09aec595",
      "metadata": {
        "id": "09aec595"
      },
      "source": [
        "### Report the best performing Model"
      ]
    },
    {
      "cell_type": "markdown",
      "id": "e8d93fb0",
      "metadata": {
        "id": "e8d93fb0"
      },
      "source": [
        "As we can see Random Forest with Paramater like {'max_depth': 16, 'n_estimators': 250} is the better at some extent than XGBoost."
      ]
    }
  ],
  "metadata": {
    "kernelspec": {
      "display_name": "Python 3 (ipykernel)",
      "language": "python",
      "name": "python3"
    },
    "language_info": {
      "codemirror_mode": {
        "name": "ipython",
        "version": 3
      },
      "file_extension": ".py",
      "mimetype": "text/x-python",
      "name": "python",
      "nbconvert_exporter": "python",
      "pygments_lexer": "ipython3",
      "version": "3.10.9"
    },
    "colab": {
      "provenance": []
    }
  },
  "nbformat": 4,
  "nbformat_minor": 5
}